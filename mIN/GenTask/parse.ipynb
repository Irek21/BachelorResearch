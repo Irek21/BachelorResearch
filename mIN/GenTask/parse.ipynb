{
 "cells": [
  {
   "cell_type": "code",
   "execution_count": 2,
   "metadata": {},
   "outputs": [],
   "source": [
    "import numpy as np\n",
    "import pickle as pkl\n",
    "from PIL import Image as img\n",
    "import torch\n",
    "import torchvision\n",
    "import torchvision.transforms as transforms\n",
    "import torch.nn as nn\n",
    "\n",
    "device = torch.device('cuda' if torch.cuda.is_available() else 'cpu')"
   ]
  },
  {
   "cell_type": "code",
   "execution_count": 84,
   "metadata": {},
   "outputs": [
    {
     "data": {
      "text/plain": [
       "(3, 84, 84)"
      ]
     },
     "execution_count": 84,
     "metadata": {},
     "output_type": "execute_result"
    }
   ],
   "source": [
    "tmp = img.open('Data/Ims/1/0.jpg')\n",
    "tmp = pack(np.array(tmp))\n",
    "normalize = transforms.Normalize(mean=[0.485, 0.456, 0.406],\n",
    "                                std=[0.229, 0.224, 0.225])\n",
    "totensor = transforms.ToTensor()\n",
    "# tmp = totensor(tmp)\n",
    "tmp.shape"
   ]
  },
  {
   "cell_type": "code",
   "execution_count": 104,
   "metadata": {},
   "outputs": [
    {
     "data": {
      "text/plain": [
       "tensor([[[-0.7479, -0.7308, -0.6965,  ..., -0.7308, -0.7993, -0.8678],\n",
       "         [-0.6965, -0.6794, -0.6452,  ..., -1.0219, -1.0390, -1.0390],\n",
       "         [-0.5596, -0.5596, -0.5596,  ..., -1.3473, -1.3130, -1.2788],\n",
       "         ...,\n",
       "         [ 0.3309,  0.4508,  0.4508,  ..., -1.2445, -1.6555, -1.0562],\n",
       "         [ 0.2282,  0.3138,  0.3138,  ..., -1.0390, -1.1589,  0.0056],\n",
       "         [ 0.1254,  0.1939,  0.1597,  ..., -1.3302, -1.4500, -0.0116]],\n",
       "\n",
       "        [[-0.4076, -0.3901, -0.3550,  ..., -0.4076, -0.4776, -0.5476],\n",
       "         [-0.3901, -0.3725, -0.3375,  ..., -0.7052, -0.7227, -0.7227],\n",
       "         [-0.3375, -0.3375, -0.3375,  ..., -1.0378, -1.0028, -0.9678],\n",
       "         ...,\n",
       "         [ 0.3277,  0.4503,  0.4503,  ..., -1.3529, -1.7731, -1.1604],\n",
       "         [ 0.2227,  0.3102,  0.3102,  ..., -1.1253, -1.2479, -0.0574],\n",
       "         [ 0.1176,  0.1877,  0.1527,  ..., -1.4055, -1.5280, -0.0574]],\n",
       "\n",
       "        [[-0.7064, -0.6890, -0.6541,  ..., -0.4275, -0.4973, -0.5670],\n",
       "         [-0.7587, -0.7064, -0.6715,  ..., -0.7238, -0.7413, -0.7413],\n",
       "         [-0.7413, -0.7413, -0.7413,  ..., -1.0550, -1.0201, -0.9853],\n",
       "         ...,\n",
       "         [ 0.5136,  0.6356,  0.6356,  ..., -0.8807, -1.2990, -0.6890],\n",
       "         [ 0.4091,  0.4962,  0.4962,  ..., -0.7587, -0.8807,  0.3045],\n",
       "         [ 0.3045,  0.3742,  0.3393,  ..., -1.1596, -1.2816,  0.1825]]])"
      ]
     },
     "execution_count": 104,
     "metadata": {},
     "output_type": "execute_result"
    }
   ],
   "source": [
    "tmp2 = torch.tensor(tmp, dtype=torch.uint8)\n",
    "# normalize(tmp2)\n",
    "normalize(totensor(np.transpose(tmp2.numpy(), axes=(1, 2, 0))))\n",
    "# tmp.shape"
   ]
  },
  {
   "cell_type": "code",
   "execution_count": 27,
   "metadata": {},
   "outputs": [
    {
     "data": {
      "text/plain": [
       "(3, 84, 84)"
      ]
     },
     "execution_count": 27,
     "metadata": {},
     "output_type": "execute_result"
    }
   ],
   "source": [
    "def pack(np_image):\n",
    "    return np.transpose(np_image, axes=(2, 0, 1))"
   ]
  },
  {
   "cell_type": "code",
   "execution_count": 100,
   "metadata": {
    "scrolled": true
   },
   "outputs": [
    {
     "name": "stdout",
     "output_type": "stream",
     "text": [
      "Class 0 processed.\n",
      "Class 1 processed.\n",
      "Class 2 processed.\n",
      "Class 3 processed.\n",
      "Class 4 processed.\n"
     ]
    }
   ],
   "source": [
    "for i in range(5):\n",
    "    ims = np.zeros((600, 3, 84, 84), dtype=np.uint8)\n",
    "    for j in range(600):\n",
    "        im = np.array(img.open('Data/Ims/' + str(i + 1) + '/' + str(j) + '.jpg'))\n",
    "        ims[j] = pack(im)\n",
    "\n",
    "    # np.save('Data/PickledIms/' + str(95 + i), ims)\n",
    "    with open('Data/PickledIms/' + str(i), 'wb') as f:\n",
    "        pkl.dump(ims, f)\n",
    "    print('Class {} processed.'.format(i))"
   ]
  },
  {
   "cell_type": "code",
   "execution_count": 102,
   "metadata": {},
   "outputs": [
    {
     "data": {
      "text/plain": [
       "(600, 3, 84, 84)"
      ]
     },
     "execution_count": 102,
     "metadata": {},
     "output_type": "execute_result"
    }
   ],
   "source": [
    "with open('Data/PickledIms/' + str(0), 'rb') as f:\n",
    "    data = pkl.load(f)\n",
    "data.shape"
   ]
  },
  {
   "cell_type": "code",
   "execution_count": 52,
   "metadata": {},
   "outputs": [
    {
     "data": {
      "image/png": "[encoded data removed]",
      "text/plain": [
       "<PIL.Image.Image image mode=RGB size=84x84 at 0x7FE6DF9EBD30>"
      ]
     },
     "execution_count": 52,
     "metadata": {},
     "output_type": "execute_result"
    }
   ],
   "source": [
    "data = np.load('Data/PickledIms/98.npy')\n",
    "tmp = img.fromarray(np.transpose(data[0], axes=(1, 2, 0)).astype(np.uint8))\n",
    "tmp"
   ]
  },
  {
   "cell_type": "code",
   "execution_count": 5,
   "metadata": {},
   "outputs": [],
   "source": [
    "class AugGenerator():\n",
    "    def __init__(self, num_samples):\n",
    "        self.num_samples = num_samples\n",
    "        self.idx = np.random.permutation(num_samples) % 6\n",
    "        self.rotate = transforms.RandomRotation(30)\n",
    "        self.flip = transforms.RandomHorizontalFlip(1)\n",
    "        self.noise = transforms.GaussianBlur(3)\n",
    "        self.perspective = transforms.RandomPerspective(p=1)\n",
    "        self.affine = transforms.RandomAffine(20, (0.2, 0.2))\n",
    "        self.jitter = transforms.ColorJitter((0.8, 1), (0.8, 1), (0.8, 1))\n",
    "        self.resize = transforms.Resize((224, 224))\n",
    "        \n",
    "    def reshuffle(self):\n",
    "        self.idx = np.random.permutation(self.num_samples) % 6\n",
    "        \n",
    "    def aug(self, image, i):\n",
    "        im_torch = self.resize(torch.tensor(image))\n",
    "        if self.idx[i] == 0:\n",
    "            return self.rotate(im_torch)\n",
    "        elif self.idx[i] == 1:\n",
    "            return self.flip(im_torch)\n",
    "        elif self.idx[i] == 2:\n",
    "            return self.noise(im_torch)\n",
    "        elif self.idx[i] == 3:\n",
    "            return self.perspective(im_torch)\n",
    "        elif self.idx[i] == 4:\n",
    "            return self.affine(im_torch)\n",
    "        elif self.idx[i] == 5:\n",
    "            return self.jitter(im_torch)"
   ]
  },
  {
   "cell_type": "code",
   "execution_count": 6,
   "metadata": {},
   "outputs": [
    {
     "data": {
      "text/plain": [
       "(1, 5, 5, 3, 32, 32)"
      ]
     },
     "execution_count": 6,
     "metadata": {},
     "output_type": "execute_result"
    }
   ],
   "source": [
    "def create_episode(num_shots):\n",
    "    episode = np.zeros((1, 5, num_shots, 3, 32, 32), dtype=np.uint8)\n",
    "\n",
    "    for i in range(5):\n",
    "        with open('Data/PickledIms/' + str(95 + i), 'rb') as f:\n",
    "            data = pkl.load(f)\n",
    "\n",
    "        shot_numbers = np.random.randint(0, 600, size=num_shots)\n",
    "        episode[0][i][:num_shots] = data[shot_numbers]\n",
    "        \n",
    "    return episode\n",
    "\n",
    "episode = create_episode(5)\n",
    "episode.shape"
   ]
  },
  {
   "cell_type": "code",
   "execution_count": null,
   "metadata": {},
   "outputs": [],
   "source": [
    "num_samples = 1024\n",
    "num_shots = 5\n",
    "batch_size = 16\n",
    "G3 = AugGenerator(num_samples)\n",
    "\n",
    "X_aug_im = torch.zeros((5, num_samples, 3, 224, 224), device=device, dtype=torch.float32)\n",
    "X_aug = torch.zeros((5, num_samples, 2048), device=device, dtype=torch.float32)\n",
    "for class_num in range(5):\n",
    "    for i in range(num_samples):\n",
    "        X_aug_im[class_num][i] = G3.aug(episode[0][class_num][i % num_shots], i)\n",
    "    for j in range(num_samples // batch_size):\n",
    "        X_aug[class_num, j * batch_size:(j + 1) * batch_size] = vgg_extractor(X_aug_im[class_num,\n",
    "                                                                                       j * batch_size:(j + 1) * batch_size])\n",
    "    print('Class {} processed.'.format(class_num))"
   ]
  },
  {
   "cell_type": "code",
   "execution_count": 7,
   "metadata": {},
   "outputs": [],
   "source": [
    "num_samples = 1024\n",
    "num_shots = 5\n",
    "batch_size = 16\n",
    "G3 = AugGenerator(num_samples)\n",
    "\n",
    "X_aug_im = torch.zeros((5, num_samples, 3, 224, 224), device=device, dtype=torch.float32)\n",
    "X_aug = torch.zeros((5, num_samples, 2048), device=device, dtype=torch.float32)"
   ]
  },
  {
   "cell_type": "code",
   "execution_count": 20,
   "metadata": {},
   "outputs": [
    {
     "data": {
      "text/plain": [
       "tensor([[[[161., 161., 161.,  ..., 181., 181., 181.],\n",
       "          [161., 161., 161.,  ..., 181., 181., 181.],\n",
       "          [161., 161., 161.,  ..., 181., 181., 181.],\n",
       "          ...,\n",
       "          [ 78.,  78.,  78.,  ...,  98.,  98.,  98.],\n",
       "          [ 78.,  78.,  78.,  ...,  98.,  98.,  98.],\n",
       "          [ 78.,  78.,  78.,  ...,  98.,  98.,  98.]],\n",
       "\n",
       "         [[167., 167., 167.,  ..., 187., 187., 187.],\n",
       "          [167., 167., 167.,  ..., 187., 187., 187.],\n",
       "          [167., 167., 167.,  ..., 187., 187., 187.],\n",
       "          ...,\n",
       "          [ 77.,  77.,  77.,  ..., 100., 100., 100.],\n",
       "          [ 77.,  77.,  77.,  ..., 100., 100., 100.],\n",
       "          [ 77.,  77.,  77.,  ..., 100., 100., 100.]],\n",
       "\n",
       "         [[217., 217., 217.,  ..., 235., 235., 235.],\n",
       "          [217., 217., 217.,  ..., 235., 235., 235.],\n",
       "          [217., 217., 217.,  ..., 235., 235., 235.],\n",
       "          ...,\n",
       "          [ 92.,  92.,  92.,  ..., 117., 117., 117.],\n",
       "          [ 92.,  92.,  92.,  ..., 117., 117., 117.],\n",
       "          [ 92.,  92.,  92.,  ..., 117., 117., 117.]]],\n",
       "\n",
       "\n",
       "        [[[181., 181., 181.,  ..., 161., 161., 161.],\n",
       "          [181., 181., 181.,  ..., 161., 161., 161.],\n",
       "          [181., 181., 181.,  ..., 161., 161., 161.],\n",
       "          ...,\n",
       "          [ 98.,  98.,  98.,  ...,  78.,  78.,  78.],\n",
       "          [ 98.,  98.,  98.,  ...,  78.,  78.,  78.],\n",
       "          [ 98.,  98.,  98.,  ...,  78.,  78.,  78.]],\n",
       "\n",
       "         [[187., 187., 187.,  ..., 167., 167., 167.],\n",
       "          [187., 187., 187.,  ..., 167., 167., 167.],\n",
       "          [187., 187., 187.,  ..., 167., 167., 167.],\n",
       "          ...,\n",
       "          [100., 100., 100.,  ...,  77.,  77.,  77.],\n",
       "          [100., 100., 100.,  ...,  77.,  77.,  77.],\n",
       "          [100., 100., 100.,  ...,  77.,  77.,  77.]],\n",
       "\n",
       "         [[235., 235., 235.,  ..., 217., 217., 217.],\n",
       "          [235., 235., 235.,  ..., 217., 217., 217.],\n",
       "          [235., 235., 235.,  ..., 217., 217., 217.],\n",
       "          ...,\n",
       "          [117., 117., 117.,  ...,  92.,  92.,  92.],\n",
       "          [117., 117., 117.,  ...,  92.,  92.,  92.],\n",
       "          [117., 117., 117.,  ...,  92.,  92.,  92.]]],\n",
       "\n",
       "\n",
       "        [[[161., 161., 161.,  ..., 181., 181., 181.],\n",
       "          [161., 161., 161.,  ..., 181., 181., 181.],\n",
       "          [161., 161., 161.,  ..., 181., 181., 181.],\n",
       "          ...,\n",
       "          [ 78.,  78.,  78.,  ...,  98.,  98.,  98.],\n",
       "          [ 78.,  78.,  78.,  ...,  98.,  98.,  98.],\n",
       "          [ 78.,  78.,  78.,  ...,  98.,  98.,  98.]],\n",
       "\n",
       "         [[167., 167., 167.,  ..., 187., 187., 187.],\n",
       "          [167., 167., 167.,  ..., 187., 187., 187.],\n",
       "          [167., 167., 167.,  ..., 187., 187., 187.],\n",
       "          ...,\n",
       "          [ 77.,  77.,  77.,  ..., 100., 100., 100.],\n",
       "          [ 77.,  77.,  77.,  ..., 100., 100., 100.],\n",
       "          [ 77.,  77.,  77.,  ..., 100., 100., 100.]],\n",
       "\n",
       "         [[217., 217., 217.,  ..., 235., 235., 235.],\n",
       "          [217., 217., 217.,  ..., 235., 235., 235.],\n",
       "          [217., 217., 217.,  ..., 235., 235., 235.],\n",
       "          ...,\n",
       "          [ 92.,  92.,  92.,  ..., 117., 117., 117.],\n",
       "          [ 92.,  92.,  92.,  ..., 117., 117., 117.],\n",
       "          [ 92.,  92.,  92.,  ..., 117., 117., 117.]]],\n",
       "\n",
       "\n",
       "        ...,\n",
       "\n",
       "\n",
       "        [[[  0.,   0.,   0.,  ...,   0.,   0.,   0.],\n",
       "          [  0.,   0.,   0.,  ...,   0.,   0.,   0.],\n",
       "          [  0.,   0.,   0.,  ...,   0.,   0.,   0.],\n",
       "          ...,\n",
       "          [  0.,   0.,   0.,  ...,   0.,   0.,   0.],\n",
       "          [  0.,   0.,   0.,  ...,   0.,   0.,   0.],\n",
       "          [  0.,   0.,   0.,  ...,   0.,   0.,   0.]],\n",
       "\n",
       "         [[  0.,   0.,   0.,  ...,   0.,   0.,   0.],\n",
       "          [  0.,   0.,   0.,  ...,   0.,   0.,   0.],\n",
       "          [  0.,   0.,   0.,  ...,   0.,   0.,   0.],\n",
       "          ...,\n",
       "          [  0.,   0.,   0.,  ...,   0.,   0.,   0.],\n",
       "          [  0.,   0.,   0.,  ...,   0.,   0.,   0.],\n",
       "          [  0.,   0.,   0.,  ...,   0.,   0.,   0.]],\n",
       "\n",
       "         [[  0.,   0.,   0.,  ...,   0.,   0.,   0.],\n",
       "          [  0.,   0.,   0.,  ...,   0.,   0.,   0.],\n",
       "          [  0.,   0.,   0.,  ...,   0.,   0.,   0.],\n",
       "          ...,\n",
       "          [  0.,   0.,   0.,  ...,   0.,   0.,   0.],\n",
       "          [  0.,   0.,   0.,  ...,   0.,   0.,   0.],\n",
       "          [  0.,   0.,   0.,  ...,   0.,   0.,   0.]]],\n",
       "\n",
       "\n",
       "        [[[  0.,   0.,   0.,  ...,   0.,   0.,   0.],\n",
       "          [  0.,   0.,   0.,  ...,   0.,   0.,   0.],\n",
       "          [  0.,   0.,   0.,  ...,   0.,   0.,   0.],\n",
       "          ...,\n",
       "          [  0.,   0.,   0.,  ...,   0.,   0.,   0.],\n",
       "          [  0.,   0.,   0.,  ...,   0.,   0.,   0.],\n",
       "          [  0.,   0.,   0.,  ...,   0.,   0.,   0.]],\n",
       "\n",
       "         [[  0.,   0.,   0.,  ...,   0.,   0.,   0.],\n",
       "          [  0.,   0.,   0.,  ...,   0.,   0.,   0.],\n",
       "          [  0.,   0.,   0.,  ...,   0.,   0.,   0.],\n",
       "          ...,\n",
       "          [  0.,   0.,   0.,  ...,   0.,   0.,   0.],\n",
       "          [  0.,   0.,   0.,  ...,   0.,   0.,   0.],\n",
       "          [  0.,   0.,   0.,  ...,   0.,   0.,   0.]],\n",
       "\n",
       "         [[  0.,   0.,   0.,  ...,   0.,   0.,   0.],\n",
       "          [  0.,   0.,   0.,  ...,   0.,   0.,   0.],\n",
       "          [  0.,   0.,   0.,  ...,   0.,   0.,   0.],\n",
       "          ...,\n",
       "          [  0.,   0.,   0.,  ...,   0.,   0.,   0.],\n",
       "          [  0.,   0.,   0.,  ...,   0.,   0.,   0.],\n",
       "          [  0.,   0.,   0.,  ...,   0.,   0.,   0.]]],\n",
       "\n",
       "\n",
       "        [[[  0.,   0.,   0.,  ...,   0.,   0.,   0.],\n",
       "          [  0.,   0.,   0.,  ...,   0.,   0.,   0.],\n",
       "          [  0.,   0.,   0.,  ...,   0.,   0.,   0.],\n",
       "          ...,\n",
       "          [  0.,   0.,   0.,  ...,   0.,   0.,   0.],\n",
       "          [  0.,   0.,   0.,  ...,   0.,   0.,   0.],\n",
       "          [  0.,   0.,   0.,  ...,   0.,   0.,   0.]],\n",
       "\n",
       "         [[  0.,   0.,   0.,  ...,   0.,   0.,   0.],\n",
       "          [  0.,   0.,   0.,  ...,   0.,   0.,   0.],\n",
       "          [  0.,   0.,   0.,  ...,   0.,   0.,   0.],\n",
       "          ...,\n",
       "          [  0.,   0.,   0.,  ...,   0.,   0.,   0.],\n",
       "          [  0.,   0.,   0.,  ...,   0.,   0.,   0.],\n",
       "          [  0.,   0.,   0.,  ...,   0.,   0.,   0.]],\n",
       "\n",
       "         [[  0.,   0.,   0.,  ...,   0.,   0.,   0.],\n",
       "          [  0.,   0.,   0.,  ...,   0.,   0.,   0.],\n",
       "          [  0.,   0.,   0.,  ...,   0.,   0.,   0.],\n",
       "          ...,\n",
       "          [  0.,   0.,   0.,  ...,   0.,   0.,   0.],\n",
       "          [  0.,   0.,   0.,  ...,   0.,   0.,   0.],\n",
       "          [  0.,   0.,   0.,  ...,   0.,   0.,   0.]]]])"
      ]
     },
     "execution_count": 20,
     "metadata": {},
     "output_type": "execute_result"
    }
   ],
   "source": [
    "X_aug_im[0][4] = G3.aug(episode[0][0][0], 4)\n",
    "X_aug_im[0]"
   ]
  },
  {
   "cell_type": "code",
   "execution_count": null,
   "metadata": {},
   "outputs": [],
   "source": [
    "X_aug = vgg_extractor(X_aug_im[0, :100].reshape(-1, 3, 224, 224))\n",
    "X_aug"
   ]
  },
  {
   "cell_type": "code",
   "execution_count": 36,
   "metadata": {},
   "outputs": [
    {
     "data": {
      "text/plain": [
       "torch.Size([10, 2048])"
      ]
     },
     "execution_count": 36,
     "metadata": {},
     "output_type": "execute_result"
    }
   ],
   "source": [
    "X_aug.shape"
   ]
  },
  {
   "cell_type": "code",
   "execution_count": null,
   "metadata": {},
   "outputs": [],
   "source": []
  }
 ],
 "metadata": {
  "kernelspec": {
   "display_name": "Python 3",
   "language": "python",
   "name": "python3"
  },
  "language_info": {
   "codemirror_mode": {
    "name": "ipython",
    "version": 3
   },
   "file_extension": ".py",
   "mimetype": "text/x-python",
   "name": "python",
   "nbconvert_exporter": "python",
   "pygments_lexer": "ipython3",
   "version": "3.6.9"
  }
 },
 "nbformat": 4,
 "nbformat_minor": 2
}
