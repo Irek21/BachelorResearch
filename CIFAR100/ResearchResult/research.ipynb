{
 "cells": [
  {
   "cell_type": "code",
   "execution_count": 1,
   "metadata": {},
   "outputs": [],
   "source": [
    "import numpy as np\n",
    "\n",
    "import torch\n",
    "import torch.nn as nn\n",
    "\n",
    "from models import CentroidGenerator\n",
    "from models import DeltaEncoderGenerator\n",
    "from models import AugGenerator\n",
    "from models import Classifier\n",
    "from dataloader import BatchLoader\n",
    "from scores import AccuracyScore\n",
    "\n",
    "import pickle as pkl\n",
    "\n",
    "device = torch.device('cuda' if torch.cuda.is_available() else 'cpu')\n",
    "cpu = torch.device('cpu')"
   ]
  },
  {
   "cell_type": "markdown",
   "metadata": {},
   "source": [
    "# Basic train"
   ]
  },
  {
   "cell_type": "code",
   "execution_count": 2,
   "metadata": {},
   "outputs": [],
   "source": [
    "X_test = torch.zeros((5, 600, 2048), dtype=torch.float32, device=device)\n",
    "y_test = torch.zeros((5, 600), dtype=torch.long, device=device)\n",
    "for i in range(5):\n",
    "    with open('Data/PickledClasses/' + str(95 + i), 'rb') as f:\n",
    "        class_data = pkl.load(f)\n",
    "    X_test[i] = class_data\n",
    "for i in range(5):\n",
    "    y_test[i] = i * torch.ones(600, dtype=torch.long, device=device)\n",
    "\n",
    "with open('Data/PickledClasses/Merged', 'wb') as f:\n",
    "    pkl.dump({'data': X_test.reshape(-1, 2048), 'labels': y_test.reshape(-1)}, f)\n",
    "\n",
    "acc_loader = BatchLoader(class_size=600, num_classes=5, batch_size=100,\n",
    "                         shuffle=False, RAM=True, data=X_test.reshape(-1, 2048), labels=y_test.reshape(-1))"
   ]
  },
  {
   "cell_type": "code",
   "execution_count": 3,
   "metadata": {},
   "outputs": [],
   "source": [
    "class Classyfier(nn.Module):\n",
    "    def __init__(self):\n",
    "        fc_layers = nn.Sequential(\n",
    "            nn.Linear(2048, 512),\n",
    "            nn.Linear(512, 256),\n",
    "            # nn.ReLU(),\n",
    "            # nn.BatchNorm1d(1024),\n",
    "            nn.Linear(256, 5),\n",
    "            nn.Softmax(dim=1)\n",
    "        )\n",
    "        super(Classyfier, self).__init__()\n",
    "        self.fc = fc_layers\n",
    "        \n",
    "    def forward(self, x):\n",
    "        out = self.fc(x)\n",
    "        return out"
   ]
  },
  {
   "cell_type": "code",
   "execution_count": 64,
   "metadata": {},
   "outputs": [
    {
     "name": "stdout",
     "output_type": "stream",
     "text": [
      "CPU times: user 6.81 s, sys: 87.9 ms, total: 6.9 s\n",
      "Wall time: 1.73 s\n"
     ]
    }
   ],
   "source": [
    "%%time\n",
    "# create_episode(1)\n",
    "create_piles(128, 1024, 5)"
   ]
  },
  {
   "cell_type": "code",
   "execution_count": 65,
   "metadata": {},
   "outputs": [
    {
     "name": "stdout",
     "output_type": "stream",
     "text": [
      "CPU times: user 2min 4s, sys: 24.3 ms, total: 2min 4s\n",
      "Wall time: 31.3 s\n"
     ]
    }
   ],
   "source": [
    "%%time\n",
    "for i in range(128):\n",
    "    X_aug_im[class_num][i] = G3.aug(episode_ims[0][class_num][i % num_shots], i)\n",
    "for i in range(128 // batch_size):\n",
    "    X_aug[class_num, i * batch_size:(i + 1) * batch_size] = vgg_extractor(X_aug_im[class_num,\n",
    "                                                                                   i * batch_size:(i + 1) * batch_size].to(device)).detach().cpu()\n"
   ]
  },
  {
   "cell_type": "code",
   "execution_count": 661,
   "metadata": {},
   "outputs": [],
   "source": [
    "loader = create_loader(128, 1024, 512 + 504, 1)"
   ]
  },
  {
   "cell_type": "code",
   "execution_count": 49,
   "metadata": {},
   "outputs": [],
   "source": [
    "loader = reshuffle(1024, 128, 448)"
   ]
  },
  {
   "cell_type": "code",
   "execution_count": 62,
   "metadata": {},
   "outputs": [
    {
     "name": "stdout",
     "output_type": "stream",
     "text": [
      "Accuracy on FSL task = 83.03750038146973 %\n",
      "CPU times: user 35.7 s, sys: 36 ms, total: 35.7 s\n",
      "Wall time: 8.95 s\n"
     ]
    }
   ],
   "source": [
    "%%time\n",
    "num_iters = 16\n",
    "accs = np.zeros(num_iters)\n",
    "for j in range(num_iters):\n",
    "    classifier = Classifier().to(device)\n",
    "    criterion = nn.CrossEntropyLoss()\n",
    "    optimizer = torch.optim.Adam(classifier.parameters(), lr=0.0001)\n",
    "\n",
    "    acc_record = 0\n",
    "    for epoch in range(20):\n",
    "        for i in range(loader.train_size // loader.batch_size):\n",
    "            images, labels = loader.batch_load(i)\n",
    "\n",
    "            optimizer.zero_grad()\n",
    "            predict = classifier(images)\n",
    "            loss = criterion(predict, labels)\n",
    "            loss.backward()\n",
    "            optimizer.step()\n",
    "        if (epoch % 2 == 0):\n",
    "            acc = AccuracyScore(classifier, acc_loader)\n",
    "            acc_record = max(acc, acc_record)\n",
    "\n",
    "    accs[j] = acc_record\n",
    "print('Accuracy on FSL task = {} %'.format(accs.mean()))"
   ]
  },
  {
   "cell_type": "code",
   "execution_count": 619,
   "metadata": {},
   "outputs": [],
   "source": [
    "classifier = Classifier().to(device) # y !\n",
    "criterion = nn.CrossEntropyLoss()\n",
    "optimizer = torch.optim.Adam(classifier.parameters(), lr=0.0001)\n",
    "\n",
    "def init_weights(m):\n",
    "    classname = m.__class__.__name__\n",
    "    if classname.find('Linear') != -1:\n",
    "        nn.init.normal_(m.weight.data, 0.0, 0.02)\n",
    "        nn.init.constant_(m.bias.data, 0)"
   ]
  },
  {
   "cell_type": "code",
   "execution_count": 631,
   "metadata": {
    "scrolled": true
   },
   "outputs": [
    {
     "name": "stdout",
     "output_type": "stream",
     "text": [
      "Epoch 0 Loss = 0.9057443141937256\n",
      "Epoch 1 Loss = 0.9056396484375\n"
     ]
    }
   ],
   "source": [
    "for epoch in range(2):\n",
    "    for i in range(loader.train_size // loader.batch_size):\n",
    "        images, labels = loader.batch_load(i)\n",
    "        \n",
    "        optimizer.zero_grad()\n",
    "        predict = classifier(images)\n",
    "        loss = criterion(predict, labels)\n",
    "        loss.backward()\n",
    "        optimizer.step()\n",
    "        \n",
    "        loss_value = loss.detach()\n",
    "    \n",
    "    print('Epoch {} Loss = {}'.format(epoch, loss_value))"
   ]
  },
  {
   "cell_type": "code",
   "execution_count": 632,
   "metadata": {},
   "outputs": [
    {
     "name": "stdout",
     "output_type": "stream",
     "text": [
      "Accuracy on FSL task = 60 %\n"
     ]
    }
   ],
   "source": [
    "correct = 0\n",
    "total = 0\n",
    "for i in range(acc_loader.train_size // acc_loader.batch_size):\n",
    "    images, labels = acc_loader.batch_load(i)\n",
    "        \n",
    "    predict = classifier(images)\n",
    "    _, predicted = torch.max(predict.data, 1)\n",
    "    total += labels.size(0)\n",
    "    correct += (predicted == labels).sum()\n",
    "\n",
    "accuracy = 100 * correct / total\n",
    "print('Accuracy on FSL task = {} %'.format(accuracy))"
   ]
  },
  {
   "cell_type": "markdown",
   "metadata": {},
   "source": [
    "# Generate and merge in RAM"
   ]
  },
  {
   "cell_type": "code",
   "execution_count": 3,
   "metadata": {},
   "outputs": [
    {
     "data": {
      "text/plain": [
       "(1, 5, 5, 3, 32, 32)"
      ]
     },
     "execution_count": 3,
     "metadata": {},
     "output_type": "execute_result"
    }
   ],
   "source": [
    "def create_episode(num_shots):\n",
    "    episode = torch.zeros(1, 5, num_shots, 2048, requires_grad=False)\n",
    "    episode_ims = np.zeros((1, 5, num_shots, 3, 32, 32), dtype=np.uint8)\n",
    "    for i in range(5):\n",
    "        shot_numbers = np.random.permutation(600)[:num_shots]\n",
    "        \n",
    "        with open('Data/PickledClasses/' + str(95 + i), 'rb') as f:\n",
    "            data = pkl.load(f)\n",
    "        episode[0][i][:num_shots] = data[shot_numbers]\n",
    "        \n",
    "        with open('Data/PickledIms/' + str(95 + i), 'rb') as f:\n",
    "            data = pkl.load(f)\n",
    "        episode_ims[0][i][:num_shots] = data[shot_numbers]\n",
    "        \n",
    "    return episode, episode_ims\n",
    "\n",
    "episode, episode_ims = create_episode(5)\n",
    "episode_ims.shape"
   ]
  },
  {
   "cell_type": "code",
   "execution_count": 4,
   "metadata": {},
   "outputs": [],
   "source": [
    "G1 = CentroidGenerator().to(device)\n",
    "G1.load_state_dict(torch.load('ModelGraphs/G1'))\n",
    "\n",
    "G2 = DeltaEncoderGenerator(2048, 512, 8).to(device)\n",
    "G2.load_state_dict(torch.load('ModelGraphs/G2'))\n",
    "\n",
    "G3 = AugGenerator(1024)\n",
    "\n",
    "with open('Data/SynthMaterial/Centroid', 'rb') as f:\n",
    "    package1 = pkl.load(f)\n",
    "    \n",
    "with open('Data/SynthMaterial/DE', 'rb') as f:\n",
    "    package2 = pkl.load(f)"
   ]
  },
  {
   "cell_type": "code",
   "execution_count": 5,
   "metadata": {
    "scrolled": true
   },
   "outputs": [
    {
     "name": "stderr",
     "output_type": "stream",
     "text": [
      "/home/ubuntu/anaconda3/lib/python3.7/site-packages/torch/serialization.py:658: SourceChangeWarning: source code of class 'torch.nn.modules.container.Sequential' has changed. you can retrieve the original source code by accessing the object's source attribute or set `torch.nn.Module.dump_patches = True` and use the patch tool to revert the changes.\n",
      "  warnings.warn(msg, SourceChangeWarning)\n",
      "/home/ubuntu/anaconda3/lib/python3.7/site-packages/torch/serialization.py:658: SourceChangeWarning: source code of class 'torch.nn.modules.conv.Conv2d' has changed. you can retrieve the original source code by accessing the object's source attribute or set `torch.nn.Module.dump_patches = True` and use the patch tool to revert the changes.\n",
      "  warnings.warn(msg, SourceChangeWarning)\n",
      "/home/ubuntu/anaconda3/lib/python3.7/site-packages/torch/serialization.py:658: SourceChangeWarning: source code of class 'torch.nn.modules.activation.ReLU' has changed. you can retrieve the original source code by accessing the object's source attribute or set `torch.nn.Module.dump_patches = True` and use the patch tool to revert the changes.\n",
      "  warnings.warn(msg, SourceChangeWarning)\n",
      "/home/ubuntu/anaconda3/lib/python3.7/site-packages/torch/serialization.py:658: SourceChangeWarning: source code of class 'torch.nn.modules.pooling.MaxPool2d' has changed. you can retrieve the original source code by accessing the object's source attribute or set `torch.nn.Module.dump_patches = True` and use the patch tool to revert the changes.\n",
      "  warnings.warn(msg, SourceChangeWarning)\n",
      "/home/ubuntu/anaconda3/lib/python3.7/site-packages/torch/serialization.py:658: SourceChangeWarning: source code of class 'torch.nn.modules.pooling.AdaptiveAvgPool2d' has changed. you can retrieve the original source code by accessing the object's source attribute or set `torch.nn.Module.dump_patches = True` and use the patch tool to revert the changes.\n",
      "  warnings.warn(msg, SourceChangeWarning)\n",
      "/home/ubuntu/anaconda3/lib/python3.7/site-packages/torch/serialization.py:658: SourceChangeWarning: source code of class 'torch.nn.modules.flatten.Flatten' has changed. you can retrieve the original source code by accessing the object's source attribute or set `torch.nn.Module.dump_patches = True` and use the patch tool to revert the changes.\n",
      "  warnings.warn(msg, SourceChangeWarning)\n",
      "/home/ubuntu/anaconda3/lib/python3.7/site-packages/torch/serialization.py:658: SourceChangeWarning: source code of class 'torch.nn.modules.linear.Linear' has changed. you can retrieve the original source code by accessing the object's source attribute or set `torch.nn.Module.dump_patches = True` and use the patch tool to revert the changes.\n",
      "  warnings.warn(msg, SourceChangeWarning)\n"
     ]
    }
   ],
   "source": [
    "vgg_extractor = torch.load('ModelGraphs/VGG16Backbone', map_location=device) # on gpu"
   ]
  },
  {
   "cell_type": "code",
   "execution_count": 6,
   "metadata": {},
   "outputs": [],
   "source": [
    "num_samples = 1024\n",
    "X = torch.zeros((5, num_samples, 2048), device=device, requires_grad=False)\n",
    "y = torch.zeros((5, 1024), device=device, requires_grad=False, dtype=torch.long)\n",
    "for i in range(5):\n",
    "    y[i] = i * torch.ones(1024, device=device, requires_grad=False, dtype=torch.long)\n",
    "features = np.zeros((num_samples, 2048), dtype=np.float32)\n",
    "\n",
    "X_centroid = torch.zeros((5, num_samples, 2048))\n",
    "X_de = torch.zeros((5, num_samples, 2048))\n",
    "X_aug_im = torch.zeros((5, 512, 3, 224, 224), dtype=torch.float32)\n",
    "X_aug = torch.zeros((5, 512, 2048), dtype=torch.float32)\n",
    "\n",
    "def create_piles(batch_size, num_samples, num_shots):\n",
    "    c1_b = torch.zeros((batch_size, 2048), device=device)    \n",
    "    Y1 = torch.zeros((batch_size, 2048), device=device)\n",
    "    for class_num in range(5):\n",
    "        if num_shots == 1:\n",
    "            c1_b[:] = episode[0][class_num][0]\n",
    "            Y1[:] = episode[0][class_num][0]\n",
    "        else:\n",
    "            idx = np.arange(batch_size) % 5\n",
    "            c1_b = episode[0][class_num][idx]\n",
    "            Y1 = episode[0][class_num][idx]\n",
    "\n",
    "        features = package1['features'][:, np.random.permutation(np.arange(class_num * num_samples, (class_num + 1) * num_samples))]\n",
    "        for i in range(num_samples // batch_size):\n",
    "            c1_a = torch.tensor(features[0, i * batch_size:(i + 1) * batch_size], device=device, dtype=torch.float32)\n",
    "            c2_a = torch.tensor(features[1, i * batch_size:(i + 1) * batch_size], device=device, dtype=torch.float32)\n",
    "\n",
    "            c2_b_predict = G1(c1_a, c2_a, c1_b)\n",
    "            X_centroid[class_num][i * batch_size:(i + 1) * batch_size] = c2_b_predict.detach().cpu()\n",
    "\n",
    "        features = package2['features'][class_num][:, np.random.permutation(num_samples)]\n",
    "        for i in range(num_samples // batch_size):\n",
    "            X1 = torch.tensor(features[0, i * batch_size:(i + 1) * batch_size], device=device, dtype=torch.float32)\n",
    "            X2 = torch.tensor(features[1, i * batch_size:(i + 1) * batch_size], device=device, dtype=torch.float32)\n",
    "\n",
    "            Y2_predict = G2(X1, X2, Y1)\n",
    "            X_de[class_num][i * batch_size:(i + 1) * batch_size] = Y2_predict.detach().cpu()\n",
    "        \n",
    "        G3.reshuffle()\n",
    "        for i in range(512):\n",
    "            X_aug_im[class_num][i] = G3.aug(episode_ims[0][class_num][i % num_shots], i)\n",
    "        for i in range(512 // batch_size):\n",
    "            X_aug[class_num, i * batch_size:(i + 1) * batch_size] = vgg_extractor(X_aug_im[class_num,\n",
    "                                                                                           i * batch_size:(i + 1) * batch_size].to(device)).detach().cpu()\n",
    "\n",
    "\n",
    "def reshuffle(n, n3, n2):\n",
    "    X[:, :n3] = X_aug[:, :n3].to(device)\n",
    "    X[:, n3:n3 + n2] = X_de[:, n3:n3 + n2].to(device)\n",
    "    X[:, n3 + n2:] = X_centroid[:, n3 + n2:].to(device)\n",
    "\n",
    "    return BatchLoader(1024, 5, batch_size=128, shuffle=True,\n",
    "                       RAM=True, data=X.reshape(-1, 2048), labels=y.reshape(-1))"
   ]
  },
  {
   "cell_type": "markdown",
   "metadata": {},
   "source": [
    "# Search proportion"
   ]
  },
  {
   "cell_type": "code",
   "execution_count": null,
   "metadata": {
    "scrolled": true
   },
   "outputs": [
    {
     "name": "stdout",
     "output_type": "stream",
     "text": [
      "   Episode 0. Mean accuracy 76.0895824432373 %\n",
      "   Episode 1. Mean accuracy 54.68541622161865 %\n",
      "   Episode 2. Mean accuracy 67.99999976158142 %\n",
      "   Episode 3. Mean accuracy 66.02499985694885 %\n",
      "   Episode 4. Mean accuracy 70.02916526794434 %\n",
      "   Episode 5. Mean accuracy 67.3124988079071 %\n",
      "   Episode 6. Mean accuracy 76.16249871253967 %\n",
      "   Episode 7. Mean accuracy 71.8041660785675 %\n",
      "   Episode 8. Mean accuracy 57.25416564941406 %\n",
      "   Episode 9. Mean accuracy 48.120832681655884 %\n",
      "   Episode 10. Mean accuracy 73.93333268165588 %\n",
      "   Episode 11. Mean accuracy 60.052083253860474 %\n",
      "   Episode 12. Mean accuracy 67.72291493415833 %\n",
      "   Episode 13. Mean accuracy 55.16249942779541 %\n",
      "   Episode 14. Mean accuracy 61.181249380111694 %\n",
      "   Episode 15. Mean accuracy 70.18333268165588 %\n",
      "   Episode 16. Mean accuracy 60.90624928474426 %\n",
      "   Episode 17. Mean accuracy 51.89166617393494 %\n",
      "   Episode 18. Mean accuracy 59.68541598320007 %\n",
      "   Episode 19. Mean accuracy 60.80625009536743 %\n",
      "  Aug offset 192. Offset 0. Mean accuracy 63.85041596889496 %\n",
      "   Episode 0. Mean accuracy 76.63124942779541 %\n",
      "   Episode 1. Mean accuracy 79.72083282470703 %\n",
      "   Episode 2. Mean accuracy 70.73124933242798 %\n",
      "   Episode 3. Mean accuracy 54.71249961853027 %\n",
      "   Episode 4. Mean accuracy 73.39166593551636 %\n",
      "   Episode 5. Mean accuracy 79.76249885559082 %\n",
      "   Episode 6. Mean accuracy 68.15624904632568 %\n",
      "   Episode 7. Mean accuracy 76.82083320617676 %\n",
      "   Episode 8. Mean accuracy 70.65416669845581 %\n",
      "   Episode 9. Mean accuracy 62.243748903274536 %\n",
      "   Episode 10. Mean accuracy 74.54791498184204 %\n",
      "   Episode 11. Mean accuracy 72.93958139419556 %\n",
      "   Episode 12. Mean accuracy 75.77499914169312 %\n",
      "   Episode 13. Mean accuracy 66.28333258628845 %\n",
      "   Episode 14. Mean accuracy 71.5916657447815 %\n",
      "   Episode 15. Mean accuracy 74.3729157447815 %\n",
      "   Episode 16. Mean accuracy 75.16249799728394 %\n",
      "   Episode 17. Mean accuracy 72.14374899864197 %\n",
      "   Episode 18. Mean accuracy 73.44166564941406 %\n",
      "   Episode 19. Mean accuracy 72.6354169845581 %\n",
      "  Aug offset 192. Offset 104. Mean accuracy 72.08593665361404 %\n",
      "   Episode 0. Mean accuracy 67.51458263397217 %\n",
      "   Episode 1. Mean accuracy 59.51458263397217 %\n",
      "   Episode 2. Mean accuracy 77.7374997138977 %\n",
      "   Episode 3. Mean accuracy 70.33750009536743 %\n",
      "   Episode 4. Mean accuracy 81.53958225250244 %\n",
      "   Episode 5. Mean accuracy 78.76041555404663 %\n",
      "   Episode 6. Mean accuracy 77.09374952316284 %\n",
      "   Episode 7. Mean accuracy 71.2979154586792 %\n",
      "   Episode 8. Mean accuracy 72.0395827293396 %\n",
      "   Episode 9. Mean accuracy 65.6145830154419 %\n",
      "   Episode 10. Mean accuracy 73.29374933242798 %\n",
      "   Episode 11. Mean accuracy 78.63124895095825 %\n",
      "   Episode 12. Mean accuracy 71.56666445732117 %\n",
      "   Episode 13. Mean accuracy 79.12291479110718 %\n",
      "   Episode 14. Mean accuracy 75.62291526794434 %\n",
      "   Episode 15. Mean accuracy 76.58541631698608 %\n",
      "   Episode 16. Mean accuracy 70.42291593551636 %\n",
      "   Episode 17. Mean accuracy 70.8395824432373 %\n",
      "   Episode 18. Mean accuracy 74.98333311080933 %\n",
      "   Episode 19. Mean accuracy 66.25208282470703 %\n",
      "  Aug offset 192. Offset 208. Mean accuracy 72.93854085206985 %\n",
      "   Episode 0. Mean accuracy 72.90833234786987 %\n",
      "   Episode 1. Mean accuracy 60.25833249092102 %\n",
      "   Episode 2. Mean accuracy 62.552082538604736 %\n",
      "   Episode 3. Mean accuracy 70.82291579246521 %\n",
      "   Episode 4. Mean accuracy 71.57499885559082 %\n",
      "   Episode 5. Mean accuracy 72.62916660308838 %\n",
      "   Episode 6. Mean accuracy 68.4916660785675 %\n",
      "   Episode 7. Mean accuracy 78.35624885559082 %\n",
      "   Episode 8. Mean accuracy 77.71874856948853 %\n",
      "   Episode 9. Mean accuracy 75.51458358764648 %\n",
      "   Episode 10. Mean accuracy 74.16666460037231 %\n",
      "   Episode 11. Mean accuracy 76.14791488647461 %\n",
      "   Episode 12. Mean accuracy 68.44791650772095 %\n",
      "   Episode 13. Mean accuracy 68.13124966621399 %\n",
      "   Episode 14. Mean accuracy 73.04374885559082 %\n",
      "   Episode 15. Mean accuracy 65.18333268165588 %\n",
      "   Episode 16. Mean accuracy 73.67083287239075 %\n",
      "   Episode 17. Mean accuracy 75.22916507720947 %\n",
      "   Episode 18. Mean accuracy 79.53749799728394 %\n",
      "   Episode 19. Mean accuracy 59.94166612625122 %\n",
      "  Aug offset 192. Offset 312. Mean accuracy 71.21635324954987 %\n",
      "   Episode 0. Mean accuracy 73.47291612625122 %\n",
      "   Episode 1. Mean accuracy 78.21458196640015 %\n",
      "   Episode 2. Mean accuracy 70.96249842643738 %\n",
      "   Episode 3. Mean accuracy 53.10833287239075 %\n",
      "   Episode 4. Mean accuracy 82.02083206176758 %\n",
      "   Episode 5. Mean accuracy 77.1541657447815 %\n",
      "   Episode 6. Mean accuracy 65.98124837875366 %\n",
      "   Episode 7. Mean accuracy 71.5791654586792 %\n",
      "   Episode 8. Mean accuracy 69.69791650772095 %\n",
      "   Episode 9. Mean accuracy 67.51666498184204 %\n",
      "   Episode 10. Mean accuracy 73.62916660308838 %\n",
      "   Episode 11. Mean accuracy 57.18749952316284 %\n",
      "   Episode 12. Mean accuracy 67.80833339691162 %\n",
      "   Episode 13. Mean accuracy 77.2270827293396 %\n",
      "   Episode 14. Mean accuracy 52.06249928474426 %\n",
      "   Episode 15. Mean accuracy 77.92083215713501 %\n",
      "   Episode 16. Mean accuracy 75.94791603088379 %\n",
      "   Episode 17. Mean accuracy 75.31874990463257 %\n",
      "   Episode 18. Mean accuracy 68.86666631698608 %\n",
      "   Episode 19. Mean accuracy 64.42916560173035 %\n",
      "  Aug offset 192. Offset 416. Mean accuracy 70.00531170368194 %\n",
      "   Episode 0. Mean accuracy 67.07916593551636 %\n",
      "   Episode 1. Mean accuracy 76.18541622161865 %\n",
      "   Episode 2. Mean accuracy 47.089582681655884 %\n",
      "   Episode 3. Mean accuracy 69.78749871253967 %\n",
      "   Episode 4. Mean accuracy 58.78958249092102 %\n",
      "   Episode 5. Mean accuracy 70.1791672706604 %\n",
      "   Episode 6. Mean accuracy 66.58124947547913 %\n",
      "   Episode 7. Mean accuracy 67.78541588783264 %\n",
      "   Episode 8. Mean accuracy 69.30624961853027 %\n",
      "   Episode 9. Mean accuracy 75.24999856948853 %\n",
      "   Episode 10. Mean accuracy 70.41666507720947 %\n",
      "   Episode 11. Mean accuracy 62.65833258628845 %\n",
      "   Episode 12. Mean accuracy 73.1520824432373 %\n",
      "   Episode 13. Mean accuracy 72.0979151725769 %\n",
      "   Episode 14. Mean accuracy 69.88124990463257 %\n",
      "   Episode 15. Mean accuracy 71.36041498184204 %\n",
      "   Episode 16. Mean accuracy 74.91249942779541 %\n",
      "   Episode 17. Mean accuracy 69.8875002861023 %\n",
      "   Episode 18. Mean accuracy 78.21874856948853 %\n",
      "   Episode 19. Mean accuracy 67.53125 %\n",
      "  Aug offset 192. Offset 520. Mean accuracy 68.90749926567078 %\n",
      "   Episode 0. Mean accuracy 68.16249918937683 %\n",
      "   Episode 1. Mean accuracy 63.48749876022339 %\n",
      "   Episode 2. Mean accuracy 75.20624923706055 %\n",
      "   Episode 3. Mean accuracy 71.55208253860474 %\n",
      "   Episode 4. Mean accuracy 70.9437484741211 %\n",
      "   Episode 5. Mean accuracy 78.34374952316284 %\n",
      "   Episode 6. Mean accuracy 55.2937490940094 %\n",
      "   Episode 7. Mean accuracy 64.72083258628845 %\n",
      "   Episode 8. Mean accuracy 63.20624923706055 %\n",
      "   Episode 9. Mean accuracy 76.33333206176758 %\n",
      "   Episode 10. Mean accuracy 66.7020833492279 %\n",
      "   Episode 11. Mean accuracy 75.83333158493042 %\n",
      "   Episode 12. Mean accuracy 76.45833158493042 %\n",
      "   Episode 13. Mean accuracy 66.11458253860474 %\n",
      "   Episode 14. Mean accuracy 72.37083292007446 %\n",
      "   Episode 15. Mean accuracy 51.904165744781494 %\n",
      "   Episode 16. Mean accuracy 65.65833306312561 %\n",
      "   Episode 17. Mean accuracy 65.61249899864197 %\n",
      "   Episode 18. Mean accuracy 74.76666593551636 %\n",
      "   Episode 19. Mean accuracy 70.72083258628845 %\n",
      "  Aug offset 192. Offset 624. Mean accuracy 68.66958245038987 %\n",
      "   Episode 0. Mean accuracy 78.07499837875366 %\n",
      "   Episode 1. Mean accuracy 61.11041617393494 %\n",
      "   Episode 2. Mean accuracy 66.98124933242798 %\n",
      "   Episode 3. Mean accuracy 72.92291593551636 %\n",
      "   Episode 4. Mean accuracy 69.2812488079071 %\n",
      "   Episode 5. Mean accuracy 74.08541536331177 %\n",
      "   Episode 6. Mean accuracy 61.84999942779541 %\n",
      "   Episode 7. Mean accuracy 72.28125 %\n",
      "   Episode 8. Mean accuracy 70.36874961853027 %\n",
      "   Episode 9. Mean accuracy 75.49166512489319 %\n",
      "   Episode 10. Mean accuracy 67.0999984741211 %\n",
      "   Episode 11. Mean accuracy 71.55416584014893 %\n",
      "   Episode 12. Mean accuracy 63.1645827293396 %\n",
      "   Episode 13. Mean accuracy 59.31041598320007 %\n",
      "   Episode 14. Mean accuracy 74.3708324432373 %\n",
      "   Episode 15. Mean accuracy 71.5666651725769 %\n",
      "   Episode 16. Mean accuracy 57.989582777023315 %\n",
      "   Episode 17. Mean accuracy 57.487499713897705 %\n",
      "   Episode 18. Mean accuracy 62.63333225250244 %\n",
      "   Episode 19. Mean accuracy 46.52499961853027 %\n",
      "  Aug offset 192. Offset 728. Mean accuracy 66.70749915838242 %\n",
      " Aug offset 192. Mean accuracy = 69.29764241278171 %\n"
     ]
    },
    {
     "name": "stdout",
     "output_type": "stream",
     "text": [
      "   Episode 0. Mean accuracy 63.404165506362915 %\n",
      "   Episode 1. Mean accuracy 68.2041666507721 %\n",
      "   Episode 2. Mean accuracy 54.81458306312561 %\n",
      "   Episode 3. Mean accuracy 60.491666078567505 %\n",
      "   Episode 4. Mean accuracy 61.88333296775818 %\n",
      "   Episode 5. Mean accuracy 58.71874952316284 %\n",
      "   Episode 6. Mean accuracy 77.81249809265137 %\n",
      "   Episode 7. Mean accuracy 80.78333306312561 %\n",
      "   Episode 8. Mean accuracy 70.70625019073486 %\n",
      "   Episode 9. Mean accuracy 64.63124942779541 %\n",
      "   Episode 10. Mean accuracy 68.51666617393494 %\n"
     ]
    }
   ],
   "source": [
    "iters = 16\n",
    "offs_aug = 105\n",
    "episodes = 20\n",
    "counted = 192\n",
    "offsets = [np.arange(8) * ((1024 - 8 * i - counted) // 8) for i in range(offs_aug)]# [np.arange(128 - i) * 8 for i in range(16)]\n",
    "accs = [np.zeros((8, episodes, iters)) for i in range(offs_aug)]\n",
    "\n",
    "\n",
    "for offs1 in range(offs_aug):\n",
    "    for offs2 in range(8):\n",
    "        \n",
    "        for i in range(episodes):    \n",
    "            episode, episode_ims = create_episode(1)\n",
    "            create_piles(1024, 1024, 1)\n",
    "            loader = reshuffle(1024, offs1 * 8 + counted, offsets[offs1][offs2])\n",
    "            \n",
    "            accs[offs1][offs2][i] = validate(loader, iters)\n",
    "\n",
    "            print('   Episode {}. Mean accuracy {} %'.format(i, accs[offs1][offs2][i].mean()))\n",
    "            \n",
    "        print('  Aug offset {}. Offset {}. Mean accuracy {} %'.format(offs1 * 8 + counted, offsets[offs1][offs2],\n",
    "                                                                      accs[offs1][offs2].mean()))\n",
    "    print(' Aug offset {}. Mean accuracy = {} %'.format(offs1 * 8 + counted, accs[offs1].mean()))"
   ]
  },
  {
   "cell_type": "code",
   "execution_count": 7,
   "metadata": {},
   "outputs": [],
   "source": [
    "def validate(loader, num_iters):\n",
    "    accs = np.zeros(num_iters)\n",
    "    for j in range(num_iters):\n",
    "        classifier = Classifier().to(device)\n",
    "        criterion = nn.CrossEntropyLoss()\n",
    "        optimizer = torch.optim.Adam(classifier.parameters(), lr=0.0001)\n",
    "\n",
    "        acc_record = 0\n",
    "        for epoch in range(20):\n",
    "            for i in range(loader.train_size // loader.batch_size):\n",
    "                images, labels = loader.batch_load(i)\n",
    "\n",
    "                optimizer.zero_grad()\n",
    "                predict = classifier(images.to(device))\n",
    "                loss = criterion(predict, labels.to(device))\n",
    "                loss.backward()\n",
    "                optimizer.step()\n",
    "            if (epoch % 2 == 0):\n",
    "                acc = AccuracyScore(classifier, acc_loader)\n",
    "                acc_record = max(acc, acc_record)\n",
    "        accs[j] = acc_record\n",
    "    return accs"
   ]
  },
  {
   "cell_type": "code",
   "execution_count": 6,
   "metadata": {},
   "outputs": [],
   "source": [
    "np.save('Accs/4/accs1.npy', accs)"
   ]
  },
  {
   "cell_type": "markdown",
   "metadata": {},
   "source": [
    "# Save section"
   ]
  },
  {
   "cell_type": "code",
   "execution_count": 2,
   "metadata": {},
   "outputs": [
    {
     "name": "stdout",
     "output_type": "stream",
     "text": [
      "   Episode 0. Mean accuracy 55.51041579246521 %    Episode 1. Mean accuracy 61.96666598320007 %    Episode 2. Mean accuracy 73.92083168029785 %    Episode 3. Mean accuracy 64.17083215713501 %    Episode 4. Mean accuracy 73.10833215713501 %    Episode 5. Mean accuracy 50.674999475479126 %    Episode 6. Mean accuracy 71.13958263397217 %    Episode 7. Mean accuracy 56.895832777023315 %    Episode 8. Mean accuracy 77.05624866485596 %    Episode 9. Mean accuracy 67.21249961853027 %    Episode 10. Mean accuracy 43.90416598320007 %    Episode 11. Mean accuracy 62.53541612625122 %    Episode 12. Mean accuracy 67.48124933242798 %    Episode 13. Mean accuracy 58.54374980926514 %    Episode 14. Mean accuracy 61.49791646003723 %    Episode 15. Mean accuracy 63.97708296775818 %    Episode 16. Mean accuracy 57.32499933242798 %    Episode 17. Mean accuracy 69.48541593551636 %    Episode 18. Mean accuracy 60.01666617393494 %    Episode 19. Mean accuracy 68.6208336353302 %   Aug offset 176. Offset 0. Mean accuracy 63.252186834812164 %    Episode 0. Mean accuracy 65.41249966621399 %    Episode 1. Mean accuracy 55.112499475479126 %    Episode 2. Mean accuracy 71.37708234786987 %    Episode 3. Mean accuracy 66.55208349227905 %    Episode 4. Mean accuracy 77.69166612625122 %    Episode 5. Mean accuracy 63.94791603088379 %    Episode 6. Mean accuracy 77.94583177566528 %    Episode 7. Mean accuracy 67.26875019073486 %    Episode 8. Mean accuracy 70.73124933242798 %    Episode 9. Mean accuracy 73.77291679382324 %    Episode 10. Mean accuracy 68.44999885559082 %    Episode 11. Mean accuracy 72.01041555404663 %    Episode 12. Mean accuracy 72.94791507720947 %    Episode 13. Mean accuracy 64.57916641235352 %    Episode 14. Mean accuracy 76.87708234786987 %    Episode 15. Mean accuracy 76.5999984741211 %    Episode 16. Mean accuracy 62.23333263397217 %    Episode 17. Mean accuracy 82.61666679382324 %    Episode 18. Mean accuracy 66.97708225250244 %    Episode 19. Mean accuracy 75.7041654586792 %   Aug offset 176. Offset 106. Mean accuracy 70.44041595458984 %    Episode 0. Mean accuracy 77.89374923706055 %    Episode 1. Mean accuracy 57.37291598320007 %    Episode 2. Mean accuracy 69.90624952316284 %    Episode 3. Mean accuracy 76.43124866485596 %    Episode 4. Mean accuracy 79.3708324432373 %    Episode 5. Mean accuracy 61.57083296775818 %    Episode 6. Mean accuracy 77.94999837875366 %    Episode 7. Mean accuracy 78.17916584014893 %    Episode 8. Mean accuracy 73.53541469573975 %    Episode 9. Mean accuracy 63.993749380111694 %    Episode 10. Mean accuracy 64.33749985694885 %    Episode 11. Mean accuracy 64.23541569709778 %    Episode 12. Mean accuracy 64.80416631698608 %    Episode 13. Mean accuracy 78.17291688919067 %    Episode 14. Mean accuracy 72.9708342552185 %    Episode 15. Mean accuracy 61.23749923706055 %    Episode 16. Mean accuracy 60.431249380111694 %    Episode 17. Mean accuracy 69.34166598320007 %    Episode 18. Mean accuracy 71.95833253860474 %    Episode 19. Mean accuracy 74.7583327293396 %   Aug offset 176. Offset 212. Mean accuracy 69.92260349988938 %    Episode 0. Mean accuracy 78.94166612625122 %    Episode 1. Mean accuracy 58.49791622161865 %    Episode 2. Mean accuracy 59.51666593551636 %    Episode 3. Mean accuracy 72.61249899864197 %    Episode 4. Mean accuracy 69.44374918937683 %    Episode 5. Mean accuracy 72.13541603088379 %    Episode 6. Mean accuracy 61.63333225250244 %    Episode 7. Mean accuracy 81.74374866485596 %    Episode 8. Mean accuracy 76.01666593551636 %    Episode 9. Mean accuracy 68.72083234786987 %    Episode 10. Mean accuracy 73.59999895095825 %    Episode 11. Mean accuracy 57.78124928474426 %    Episode 12. Mean accuracy 68.4562497138977 %    Episode 13. Mean accuracy 73.75208377838135 %    Episode 14. Mean accuracy 71.33750009536743 %    Episode 15. Mean accuracy 73.5812497138977 %    Episode 16. Mean accuracy 77.34166526794434 %    Episode 17. Mean accuracy 70.02499961853027 %    Episode 18. Mean accuracy 72.71249914169312 %    Episode 19. Mean accuracy 75.81249856948853 %   Aug offset 176. Offset 318. Mean accuracy 70.68312429189682 %    Episode 0. Mean accuracy 81.1854157447815 %    Episode 1. Mean accuracy 66.42916655540466 %    Episode 2. Mean accuracy 80.15416622161865 %    Episode 3. Mean accuracy 64.39791631698608 %    Episode 4. Mean accuracy 77.94791603088379 %    Episode 5. Mean accuracy 70.86666488647461 %    Episode 6. Mean accuracy 76.98749923706055 %    Episode 7. Mean accuracy 78.83124876022339 %    Episode 8. Mean accuracy 77.56874895095825 %    Episode 9. Mean accuracy 62.464582204818726 %    Episode 10. Mean accuracy 73.30208349227905 %    Episode 11. Mean accuracy 69.46458268165588 %    Episode 12. Mean accuracy 81.03541612625122 %    Episode 13. Mean accuracy 73.60208225250244 %    Episode 14. Mean accuracy 73.26249933242798 %    Episode 15. Mean accuracy 70.92499923706055 %    Episode 16. Mean accuracy 60.29166579246521 %    Episode 17. Mean accuracy 67.4395821094513 %    Episode 18. Mean accuracy 78.60624885559082 %    Episode 19. Mean accuracy 68.18124914169312 %   Aug offset 176. Offset 424. Mean accuracy 72.64718669652939 %    Episode 0. Mean accuracy 79.35208225250244 %    Episode 1. Mean accuracy 67.05624890327454 %    Episode 2. Mean accuracy 77.70833206176758 %    Episode 3. Mean accuracy 73.71666622161865 %    Episode 4. Mean accuracy 62.81666588783264 %    Episode 5. Mean accuracy 68.2249984741211 %    Episode 6. Mean accuracy 66.34166622161865 %    Episode 7. Mean accuracy 67.69375085830688 %    Episode 8. Mean accuracy 75.53333234786987 %    Episode 9. Mean accuracy 76.89374828338623 %    Episode 10. Mean accuracy 55.804166078567505 %    Episode 11. Mean accuracy 74.90624904632568 %    Episode 12. Mean accuracy 79.04166650772095 %    Episode 13. Mean accuracy 76.8104157447815 %    Episode 14. Mean accuracy 67.11458444595337 %    Episode 15. Mean accuracy 71.68958187103271 %    Episode 16. Mean accuracy 74.96041536331177 %    Episode 17. Mean accuracy 73.60208177566528 %    Episode 18. Mean accuracy 75.6291651725769 %    Episode 19. Mean accuracy 64.64166569709778 %   Aug offset 176. Offset 530. Mean accuracy 71.4768741607666 %    Episode 0. Mean accuracy 69.71458196640015 %    Episode 1. Mean accuracy 68.61249876022339 %    Episode 2. Mean accuracy 71.95624923706055 %    Episode 3. Mean accuracy 69.2645833492279 %    Episode 4. Mean accuracy 69.13125014305115 %    Episode 5. Mean accuracy 66.3416657447815 %    Episode 6. Mean accuracy 80.91041564941406 %    Episode 7. Mean accuracy 64.22499895095825 %    Episode 8. Mean accuracy 63.19583296775818 %    Episode 9. Mean accuracy 63.929166078567505 %    Episode 10. Mean accuracy 61.41041564941406 %    Episode 11. Mean accuracy 72.14791488647461 %    Episode 12. Mean accuracy 69.14791679382324 %    Episode 13. Mean accuracy 67.03333282470703 %    Episode 14. Mean accuracy 50.50416612625122 %    Episode 15. Mean accuracy 73.30208206176758 %    Episode 16. Mean accuracy 72.07499861717224 %    Episode 17. Mean accuracy 72.56249904632568 %    Episode 18. Mean accuracy 72.2479157447815 %    Episode 19. Mean accuracy 73.26458215713501 %   Aug offset 176. Offset 636. Mean accuracy 68.54885333776474 %    Episode 0. Mean accuracy 58.00208282470703 %    Episode 1. Mean accuracy 55.68958258628845 %    Episode 2. Mean accuracy 52.270833015441895 %    Episode 3. Mean accuracy 62.96249961853027 %    Episode 4. Mean accuracy 63.47916579246521 %    Episode 5. Mean accuracy 67.93749952316284 %    Episode 6. Mean accuracy 63.002082109451294 %    Episode 7. Mean accuracy 72.03124904632568 %    Episode 8. Mean accuracy 67.9458327293396 %    Episode 9. Mean accuracy 63.93124961853027 %    Episode 10. Mean accuracy 71.27499866485596 %    Episode 11. Mean accuracy 77.4437484741211 %    Episode 12. Mean accuracy 64.75833296775818 %    Episode 13. Mean accuracy 63.30416560173035 %    Episode 14. Mean accuracy 71.85624933242798 %    Episode 15. Mean accuracy 74.08333230018616 %    Episode 16. Mean accuracy 51.87499928474426 %    Episode 17. Mean accuracy 58.01874923706055 %    Episode 18. Mean accuracy 71.52291536331177 %    Episode 19. Mean accuracy 67.47500038146973 %   Aug offset 176. Offset 742. Mean accuracy 64.94322842359543 %  Aug offset 176. Mean accuracy = 68.98930914998054 %    Episode 0. Mean accuracy 71.64791584014893 %    Episode 1. Mean accuracy 60.72291588783264 %    Episode 2. Mean accuracy 61.56458282470703 %    Episode 3. Mean accuracy 71.54166603088379 %    Episode 4. Mean accuracy 71.7604169845581 %    Episode 5. Mean accuracy 65.23958253860474 %    Episode 6. Mean accuracy 57.9458327293396 %    Episode 7. Mean accuracy 67.51249933242798 %    Episode 8. Mean accuracy 61.306248903274536 %    Episode 9. Mean accuracy 62.806249141693115 %    Episode 10. Mean accuracy 61.089582443237305 %    Episode 11. Mean accuracy 74.39374876022339 %    Episode 12. Mean accuracy 68.6333327293396 %    Episode 13. Mean accuracy 62.06874942779541 %    Episode 14. Mean accuracy 75.10624980926514 %    Episode 15. Mean accuracy 78.44791507720947 %    Episode 16. Mean accuracy 74.41666603088379 %    Episode 17. Mean accuracy 56.26458287239075 %    Episode 18. Mean accuracy 62.66666579246521 %    Episode 19. Mean accuracy 68.61249947547913 %   Aug offset 184. Offset 0. Mean accuracy 66.68739513158798 %    Episode 0. Mean accuracy 68.8479151725769 %    Episode 1. Mean accuracy 72.01041603088379 %    Episode 2. Mean accuracy 71.81249856948853 %    Episode 3. Mean accuracy 74.3708324432373 %    Episode 4. Mean accuracy 74.58333086967468 %    Episode 5. Mean accuracy 63.837499380111694 %    Episode 6. Mean accuracy 69.48333287239075 %    Episode 7. Mean accuracy 63.58124899864197 %    Episode 8. Mean accuracy 76.63333225250244 %    Episode 9. Mean accuracy 73.04999828338623 %    Episode 10. Mean accuracy 56.69374990463257 %    Episode 11. Mean accuracy 65.95833373069763 %    Episode 12. Mean accuracy 64.41458225250244 %    Episode 13. Mean accuracy 72.375 %    Episode 14. Mean accuracy 76.64999914169312 %    Episode 15. Mean accuracy 72.97083282470703 %    Episode 16. Mean accuracy 73.15208292007446 %    Episode 17. Mean accuracy 78.1229157447815 %    Episode 18. Mean accuracy 76.10416507720947 %    Episode 19. Mean accuracy 71.1812493801117 %   Aug offset 184. Offset 105. Mean accuracy 70.79166579246521 %    Episode 0. Mean accuracy 55.66249966621399 %    Episode 1. Mean accuracy 65.02916622161865 %    Episode 2. Mean accuracy 73.62499904632568 %    Episode 3. Mean accuracy 68.4645824432373 %    Episode 4. Mean accuracy 73.93749904632568 %    Episode 5. Mean accuracy 76.89791584014893 %    Episode 6. Mean accuracy 73.12499952316284 %    Episode 7. Mean accuracy 66.56874871253967 %    Episode 8. Mean accuracy 68.22916650772095 %    Episode 9. Mean accuracy 78.50208234786987 %    Episode 10. Mean accuracy 52.09583282470703 %    Episode 11. Mean accuracy 68.89374923706055 %    Episode 12. Mean accuracy 63.652082204818726 %    Episode 13. Mean accuracy 73.73749923706055 %    Episode 14. Mean accuracy 78.96666622161865 %    Episode 15. Mean accuracy 80.1937484741211 %    Episode 16. Mean accuracy 75.67291593551636 %    Episode 17. Mean accuracy 77.62916612625122 %    Episode 18. Mean accuracy 63.25208258628845 %    Episode 19. Mean accuracy 78.1749997138977 %   Aug offset 184. Offset 210. Mean accuracy 70.61552009582519 %    Episode 0. Mean accuracy 75.28333234786987 %    Episode 1. Mean accuracy 73.76874876022339 %    Episode 2. Mean accuracy 69.15624856948853 %    Episode 3. Mean accuracy 74.36249876022339 %    Episode 4. Mean accuracy 60.82708263397217 %    Episode 5. Mean accuracy 57.868749380111694 %    Episode 6. Mean accuracy 74.52291631698608 %    Episode 7. Mean accuracy 73.2479157447815 %    Episode 8. Mean accuracy 60.952083349227905 %    Episode 9. Mean accuracy 56.09791564941406 %    Episode 10. Mean accuracy 74.3499984741211 %    Episode 11. Mean accuracy 76.5166654586792 %    Episode 12. Mean accuracy 77.38541507720947 %    Episode 13. Mean accuracy 79.54374885559082 %    Episode 14. Mean accuracy 75.72708249092102 %    Episode 15. Mean accuracy 71.05833315849304 %    Episode 16. Mean accuracy 73.70416593551636 %    Episode 17. Mean accuracy 53.274999380111694 %    Episode 18. Mean accuracy 75.00416564941406 %    Episode 19. Mean accuracy 68.46666669845581 %   Aug offset 184. Offset 315. Mean accuracy 70.05593663454056 %    Episode 0. Mean accuracy 77.73333263397217 %    Episode 1. Mean accuracy 60.91666626930237 %    Episode 2. Mean accuracy 77.56666612625122 %    Episode 3. Mean accuracy 79.7354154586792 %    Episode 4. Mean accuracy 66.22083282470703 %    Episode 5. Mean accuracy 56.29583287239075 %    Episode 6. Mean accuracy 62.48124980926514 %    Episode 7. Mean accuracy 73.89999914169312 %    Episode 8. Mean accuracy 71.2458324432373 %    Episode 9. Mean accuracy 68.34166669845581 %    Episode 10. Mean accuracy 66.25000095367432 %    Episode 11. Mean accuracy 74.56458282470703 %    Episode 12. Mean accuracy 62.21249961853027 %    Episode 13. Mean accuracy 68.81041622161865 %    Episode 14. Mean accuracy 52.24999952316284 %    Episode 15. Mean accuracy 73.41874885559082 %    Episode 16. Mean accuracy 72.96874904632568 %    Episode 17. Mean accuracy 75.88124990463257 %    Episode 18. Mean accuracy 76.26249837875366 %    Episode 19. Mean accuracy 74.74583196640015 %   Aug offset 184. Offset 420. Mean accuracy 69.59010357856751 %    Episode 0. Mean accuracy 63.46874976158142 %    Episode 1. Mean accuracy 75.19791555404663 %    Episode 2. Mean accuracy 72.3208327293396 %    Episode 3. Mean accuracy 69.69999957084656 %    Episode 4. Mean accuracy 75.40833234786987 %    Episode 5. Mean accuracy 58.63958215713501 %    Episode 6. Mean accuracy 71.72083330154419 %    Episode 7. Mean accuracy 72.28124809265137 %    Episode 8. Mean accuracy 59.679166078567505 %    Episode 9. Mean accuracy 68.6729154586792 %    Episode 10. Mean accuracy 59.76666569709778 %    Episode 11. Mean accuracy 71.6687502861023 %    Episode 12. Mean accuracy 74.84583234786987 %    Episode 13. Mean accuracy 67.66666579246521 %    Episode 14. Mean accuracy 71.49791526794434 %    Episode 15. Mean accuracy 52.99583292007446 %    Episode 16. Mean accuracy 77.33749771118164 %    Episode 17. Mean accuracy 62.616666078567505 %    Episode 18. Mean accuracy 73.59791564941406 %    Episode 19. Mean accuracy 65.69166731834412 %   Aug offset 184. Offset 525. Mean accuracy 68.23874920606613 %    Episode 0. Mean accuracy 72.3958330154419 %    Episode 1. Mean accuracy 75.73958206176758 %    Episode 2. Mean accuracy 64.34374976158142 %    Episode 3. Mean accuracy 77.2791657447815 %    Episode 4. Mean accuracy 68.46666526794434 %    Episode 5. Mean accuracy 60.777082681655884 %    Episode 6. Mean accuracy 73.74583292007446 %    Episode 7. Mean accuracy 64.9916660785675 %    Episode 8. Mean accuracy 60.870832681655884 %    Episode 9. Mean accuracy 72.33333158493042 %    Episode 10. Mean accuracy 70.82291650772095 %    Episode 11. Mean accuracy 75.08750057220459 %    Episode 12. Mean accuracy 78.16249942779541 %    Episode 13. Mean accuracy 71.052081823349 %    Episode 14. Mean accuracy 74.03124856948853 %    Episode 15. Mean accuracy 75.87083196640015 %    Episode 16. Mean accuracy 58.13124966621399 %    Episode 17. Mean accuracy 75.4020824432373 %    Episode 18. Mean accuracy 66.67291522026062 %    Episode 19. Mean accuracy 71.36666536331177 %   Aug offset 184. Offset 630. Mean accuracy 70.37718666791916 %    Episode 0. Mean accuracy 48.804166078567505 %    Episode 1. Mean accuracy 51.827083349227905 %    Episode 2. Mean accuracy 59.67083263397217 %    Episode 3. Mean accuracy 73.69583177566528 %    Episode 4. Mean accuracy 66.07708358764648 %    Episode 5. Mean accuracy 57.53541588783264 %    Episode 6. Mean accuracy 67.49374866485596 %    Episode 7. Mean accuracy 78.59999895095825 %    Episode 8. Mean accuracy 74.14583277702332 %    Episode 9. Mean accuracy 70.77291631698608 %    Episode 10. Mean accuracy 60.44166660308838 %    Episode 11. Mean accuracy 64.20624947547913 %    Episode 12. Mean accuracy 64.22916674613953 %    Episode 13. Mean accuracy 69.80416631698608 %    Episode 14. Mean accuracy 75.40416526794434 %    Episode 15. Mean accuracy 59.93749952316284 %    Episode 16. Mean accuracy 62.13958263397217 %    Episode 17. Mean accuracy 74.76041460037231 %    Episode 18. Mean accuracy 74.58749914169312 %    Episode 19. Mean accuracy 60.90208292007446 %   Aug offset 184. Offset 735. Mean accuracy 65.7517701625824 %  Aug offset 184. Mean accuracy = 69.01354090869427 %\n"
     ]
    }
   ],
   "source": [
    "accs_str = str(input())"
   ]
  },
  {
   "cell_type": "code",
   "execution_count": 4,
   "metadata": {},
   "outputs": [
    {
     "data": {
      "text/plain": [
       "(2, 8, 20)"
      ]
     },
     "execution_count": 4,
     "metadata": {},
     "output_type": "execute_result"
    }
   ],
   "source": [
    "accs = accs_str.split('%')\n",
    "# accs.insert(110, '   Episode 11. Mean accuracy 79.115234375 ')\n",
    "accs = np.array([accs[i].split(' ')[8] for i in range(len(accs) - 1)])\n",
    "accs[0] = '55.51041579246521'\n",
    "# accs = np.delete(accs, '')\n",
    "accs = accs.reshape(2, -1)\n",
    "accs = np.array(accs[:, :8 * 21])\n",
    "accs = accs.reshape(-1, 21)\n",
    "accs = np.array(accs[:, :20], dtype=float)\n",
    "# np.save('accsOffsDE.npy', accs)\n",
    "# accs = accs.reshape(-1, 17)[:, :16].reshape(-1)\n",
    "# accs = np.array([accs[i][7] for i in range(accs.shape[0])])\n",
    "# accs[0] = '78.75'\n",
    "# accs = np.array(accs, dtype=float)\n",
    "# accs = accs.reshape(-1, 16).mean(axis=1)\n",
    "accs = accs.reshape(-1, 8, 20)\n",
    "accs.shape"
   ]
  },
  {
   "cell_type": "code",
   "execution_count": 11,
   "metadata": {},
   "outputs": [],
   "source": [
    "accs0 = np.load('Accs/2/accsOffsFull.npy')\n",
    "accs = np.concatenate((accs0, accs), axis=0)\n",
    "# np.save('Accs/accsOffsCentr.npy', accs)"
   ]
  },
  {
   "cell_type": "code",
   "execution_count": 46,
   "metadata": {},
   "outputs": [
    {
     "data": {
      "image/png": "[encoded data removed]",
      "text/plain": [
       "<Figure size 432x288 with 1 Axes>"
      ]
     },
     "metadata": {
      "needs_background": "light"
     },
     "output_type": "display_data"
    }
   ],
   "source": [
    "import matplotlib.pyplot as plt\n",
    "%matplotlib inline\n",
    "plt.title('Качество классификации при различных выборках')\n",
    "plt.xlabel('G2                  Перевес в пользу генератора                  G1')\n",
    "plt.ylabel('Средняя точность, %')\n",
    "plt.plot(np.arange(-64, 65) * 8, np.flip(accs.mean(axis=2).mean(axis=1)))\n",
    "plt.savefig('2.png')"
   ]
  },
  {
   "cell_type": "code",
   "execution_count": 66,
   "metadata": {},
   "outputs": [
    {
     "data": {
      "text/plain": [
       "(129, 32, 16)"
      ]
     },
     "execution_count": 66,
     "metadata": {},
     "output_type": "execute_result"
    }
   ],
   "source": [
    "accs = np.load('Accs/2/accsOffsFull5shot.npy')\n",
    "accs.shape"
   ]
  },
  {
   "cell_type": "code",
   "execution_count": 68,
   "metadata": {},
   "outputs": [
    {
     "data": {
      "text/plain": [
       "83.0298828125"
      ]
     },
     "execution_count": 68,
     "metadata": {},
     "output_type": "execute_result"
    }
   ],
   "source": [
    "accuracies = accs.mean(axis=2).mean(axis=1)\n",
    "accuracies[np.where(accuracies > 82.5)].mean()"
   ]
  },
  {
   "cell_type": "code",
   "execution_count": 72,
   "metadata": {},
   "outputs": [
    {
     "data": {
      "text/plain": [
       "76.873046875"
      ]
     },
     "execution_count": 72,
     "metadata": {},
     "output_type": "execute_result"
    }
   ],
   "source": [
    "accuracies[128]"
   ]
  },
  {
   "cell_type": "code",
   "execution_count": null,
   "metadata": {},
   "outputs": [],
   "source": []
  }
 ],
 "metadata": {
  "kernelspec": {
   "display_name": "Python 3",
   "language": "python",
   "name": "python3"
  },
  "language_info": {
   "codemirror_mode": {
    "name": "ipython",
    "version": 3
   },
   "file_extension": ".py",
   "mimetype": "text/x-python",
   "name": "python",
   "nbconvert_exporter": "python",
   "pygments_lexer": "ipython3",
   "version": "3.6.9"
  }
 },
 "nbformat": 4,
 "nbformat_minor": 2
}
